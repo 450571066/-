{
 "cells": [
  {
   "cell_type": "code",
   "execution_count": null,
   "metadata": {},
   "outputs": [],
   "source": [
    "import requests\n",
    "import json\n",
    "import time\n",
    "import random\n",
    "from bs4 import BeautifulSoup as BS"
   ]
  },
  {
   "cell_type": "markdown",
   "metadata": {},
   "source": [
    "# Headers"
   ]
  },
  {
   "cell_type": "code",
   "execution_count": null,
   "metadata": {},
   "outputs": [],
   "source": [
    "useful_user_agent = [\n",
    "'Mozilla/5.0(Macintosh;U;IntelMacOSX10_6_8;en-us)AppleWebKit/534.50(KHTML,likeGecko)Version/5.1Safari/534.50',\n",
    "\n",
    "'Mozilla/5.0(Windows;U;WindowsNT6.1;en-us)AppleWebKit/534.50(KHTML,likeGecko)Version/5.1Safari/534.50',\n",
    "\n",
    "'Mozilla/5.0(compatible;MSIE9.0;WindowsNT6.1;Trident/5.0',\n",
    "\n",
    "'Mozilla/4.0(compatible;MSIE8.0;WindowsNT6.0;Trident/4.0)',\n",
    "\n",
    "'Mozilla/4.0(compatible;MSIE7.0;WindowsNT6.0)',\n",
    "\n",
    "'Mozilla/4.0(compatible;MSIE6.0;WindowsNT5.1)',\n",
    "\n",
    "'Mozilla/5.0(Macintosh;IntelMacOSX10.6;rv:2.0.1)Gecko/20100101Firefox/4.0.1',\n",
    "\n",
    "'Mozilla/5.0(WindowsNT6.1;rv:2.0.1)Gecko/20100101Firefox/4.0.1',\n",
    "\n",
    "'Opera/9.80(Macintosh;IntelMacOSX10.6.8;U;en)Presto/2.8.131Version/11.11',\n",
    "\n",
    "'Opera/9.80(WindowsNT6.1;U;en)Presto/2.8.131Version/11.11',\n",
    "\n",
    "'Mozilla/5.0(Macintosh;IntelMacOSX10_7_0)AppleWebKit/535.11(KHTML,likeGecko)Chrome/17.0.963.56Safari/535.11',\n",
    "\n",
    "'Mozilla/4.0(compatible;MSIE7.0;WindowsNT5.1;Maxthon2.0)',\n",
    "\n",
    "'Mozilla/4.0(compatible;MSIE7.0;WindowsNT5.1;TencentTraveler4.0)',\n",
    "\n",
    "'Mozilla/4.0(compatible;MSIE7.0;WindowsNT5.1)',\n",
    "\n",
    "'Mozilla/4.0(compatible;MSIE7.0;WindowsNT5.1;TheWorld)',\n",
    "\n",
    "'Mozilla/4.0(compatible;MSIE7.0;WindowsNT5.1;Trident/4.0;SE2.XMetaSr1.0;SE2.XMetaSr1.0;.NETCLR2.0.50727;SE2.XMetaSr1.0)',\n",
    "\n",
    "'Mozilla/4.0(compatible;MSIE7.0;WindowsNT5.1;360SE)',\n",
    "\n",
    "'Mozilla/4.0(compatible;MSIE7.0;WindowsNT5.1;AvantBrowser)',\n",
    "\n",
    "'Mozilla/4.0(compatible;MSIE7.0;WindowsNT5.1)']\n",
    "\n",
    "def download_comment_header():\n",
    "    return {\n",
    "    'authority': 'api.bilibili.com',\n",
    "    'method': 'GET',\n",
    "    'scheme': 'https',\n",
    "    'accept': '*/*',\n",
    "    'accept-encoding': 'gzip, deflate, br',\n",
    "    'accept-language': 'zh-CN,zh;q=0.9',\n",
    "    'referer': 'https://www.bilibili.com/',\n",
    "    'sec-fetch-dest': 'script',\n",
    "    'sec-fetch-mode': 'no-cors',\n",
    "    'sec-fetch-site': 'same-site',\n",
    "    'user-agent': random.choice(useful_user_agent)\n",
    "}"
   ]
  },
  {
   "cell_type": "code",
   "execution_count": null,
   "metadata": {},
   "outputs": [],
   "source": [
    "download_comment_header()"
   ]
  },
  {
   "cell_type": "markdown",
   "metadata": {},
   "source": [
    "# 获得所有视频"
   ]
  },
  {
   "cell_type": "code",
   "execution_count": 5,
   "metadata": {},
   "outputs": [],
   "source": [
    "#upid: up主的个人id， ps: page size, pn: page number\n",
    "def all_video_url(upid, ps, pn):\n",
    "    return \"https://api.bilibili.com/x/space/arc/search?mid=\" + str(upid) + \"&ps=\" + str(ps) + \"&tid=0&pn=\" + str(pn) + \"&keyword=&order=pubdate&jsonp=jsonp\""
   ]
  },
  {
   "cell_type": "code",
   "execution_count": 6,
   "metadata": {},
   "outputs": [],
   "source": [
    "#upid: up主的个人id， ps: page size\n",
    "#return: 以视频avid为key的dict，包含bvid和title\n",
    "def get_info_all_video(upid, ps):\n",
    "#     ps = 50\n",
    "#     upid = 546195\n",
    "    r = requests.get(all_video_url(upid,ps,1), headers = all_video_header)\n",
    "\n",
    "    jsonText = json.loads(r.text)\n",
    "    totalVideoNums = jsonText['data']['page']['count']\n",
    "    page = (totalVideoNums - 1)//ps + 1\n",
    "    videoInfo = {}\n",
    "    vlist = jsonText['data']['list']['vlist']\n",
    "    print(\"-------------Doing page{}---------------\".format(1))\n",
    "    for v in vlist:\n",
    "        videoInfo[v['aid']] = [v['bvid'], v['title']]\n",
    "    for i in range(2, page + 1):\n",
    "        r = requests.get(all_video_url(upid,ps,i), headers = all_video_header)\n",
    "        jsonText = json.loads(r.text)\n",
    "        vlist = jsonText['data']['list']['vlist']\n",
    "        print(\"-------------Doing page{}---------------\".format(i))\n",
    "        for v in vlist:\n",
    "            videoInfo[v['aid']] = [v['bvid'], v['title']]\n",
    "    print('Done!')\n",
    "    return videoInfo"
   ]
  },
  {
   "cell_type": "code",
   "execution_count": 7,
   "metadata": {},
   "outputs": [],
   "source": [
    "#pn: page number, oid: 视频id(av)\n",
    "def get_comment_url(pn, oid):\n",
    "    return 'https://api.bilibili.com/x/v2/reply?&jsonp=jsonp&pn={}&ps=50&type=1&oid={}&sort=2&_=1603036280474'.format(pn, oid)"
   ]
  },
  {
   "cell_type": "code",
   "execution_count": 42,
   "metadata": {},
   "outputs": [],
   "source": [
    "#oid: 视频id(av)\n",
    "#return: [(用户名，评论)，(用户名，评论)...]\n",
    "def get_comment(oid):\n",
    "    t = time.time()\n",
    "    pn = 1\n",
    "#     oid = 457025973\n",
    "    try:\n",
    "        r = requests.get(get_comment_url(pn,oid), headers = download_comment_header)\n",
    "        jsonText = json.loads(r.text)\n",
    "        count = jsonText['data']['page']['count']\n",
    "        comments = []\n",
    "        pages = count // 20 + (0 if count % 20 == 0 else 1)\n",
    "        for i in jsonText['data']['replies']:\n",
    "            comments.append(i['content']['message'])\n",
    "        while(pn < pages):\n",
    "            #不sleep会被封，封了需要换user-agent\n",
    "            time.sleep(1)\n",
    "            pn += 1\n",
    "            r = requests.get(get_comment_url(pn,oid), headers = download_comment_header)\n",
    "            jsonText = json.loads(r.text)\n",
    "            for i in jsonText['data']['replies']:\n",
    "                comments.append((i['member']['uname'], i['content']['message']))\n",
    "        len(comments)\n",
    "        print(len(comments))\n",
    "    except:\n",
    "        print(\"GG\")  \n",
    "    print(time.time() - t)\n",
    "    return comments"
   ]
  },
  {
   "cell_type": "code",
   "execution_count": 9,
   "metadata": {},
   "outputs": [],
   "source": [
    "#TODO: json['data']返回的是所有分视频的cid信息，需要额外操作\n",
    "#oid: 视频id(av)\n",
    "def get_cid(oid):\n",
    "    url = 'http://api.bilibili.com/x/player/pagelist?callback=jsonp&aid={}'.format(oid)\n",
    "    return json.loads(requests.get(url = url, headers = download_comment_header).text)['data'][0]['cid']"
   ]
  },
  {
   "cell_type": "code",
   "execution_count": 20,
   "metadata": {},
   "outputs": [],
   "source": [
    "#cid: 细分视频id\n",
    "def get_danmu_url(cid):\n",
    "    url = 'https://comment.bilibili.com/{}.xml'.format(cid)\n",
    "    return url"
   ]
  },
  {
   "cell_type": "code",
   "execution_count": 25,
   "metadata": {},
   "outputs": [],
   "source": [
    "#oid: 视频id(av)\n",
    "#return: list(弹幕s)\n",
    "def get_danmu(oid):\n",
    "#     oid = 457025973\n",
    "    url = get_danmu_url(get_cid(oid))\n",
    "    r = requests.get(url = url, headers = download_comment_header)\n",
    "    formated_file = BS(r.content, \"lxml\")\n",
    "    danmu = []\n",
    "    for dm in formated_file.find_all('d'):\n",
    "        text = dm.get_text()\n",
    "        if text == '':\n",
    "            continue\n",
    "        danmu.append(text)\n",
    "    return danmu"
   ]
  },
  {
   "cell_type": "code",
   "execution_count": 44,
   "metadata": {},
   "outputs": [
    {
     "name": "stdout",
     "output_type": "stream",
     "text": [
      "2231\n",
      "132.45176649093628\n",
      "132.45373058319092\n",
      "2231\n"
     ]
    }
   ],
   "source": [
    "f = open(\"comments.txt\", \"w\")\n",
    "t = time.time()\n",
    "oid = 457025973\n",
    "comment = get_comment(oid)\n",
    "print(time.time()-t)\n",
    "print(len(comment))"
   ]
  },
  {
   "cell_type": "code",
   "execution_count": 60,
   "metadata": {},
   "outputs": [],
   "source": [
    "import codecs\n",
    "def output(danmu, comment):\n",
    "    f = codecs.open(\"danmus.txt\", \"w\", \"utf-8\")\n",
    "    for i in danmu:\n",
    "        f.write(i.encode('utf-8').decode('utf-8'))\n",
    "        f.write(\"\\n\")\n",
    "    f.close()\n",
    "    f = codecs.open(\"comments.txt\", \"w\", \"utf-8\")\n",
    "    for i in comment:\n",
    "        f.write(i[0])\n",
    "        f.write(\": \")\n",
    "        f.write(i[1])\n",
    "        f.write(\"\\n\")\n",
    "    f.close()"
   ]
  },
  {
   "cell_type": "code",
   "execution_count": null,
   "metadata": {},
   "outputs": [],
   "source": []
  }
 ],
 "metadata": {
  "kernelspec": {
   "display_name": "Python 3",
   "language": "python",
   "name": "python3"
  },
  "language_info": {
   "codemirror_mode": {
    "name": "ipython",
    "version": 3
   },
   "file_extension": ".py",
   "mimetype": "text/x-python",
   "name": "python",
   "nbconvert_exporter": "python",
   "pygments_lexer": "ipython3",
   "version": "3.7.6"
  }
 },
 "nbformat": 4,
 "nbformat_minor": 4
}
