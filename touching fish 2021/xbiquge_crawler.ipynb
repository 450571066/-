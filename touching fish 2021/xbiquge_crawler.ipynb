{
 "cells": [
  {
   "cell_type": "code",
   "execution_count": 1,
   "metadata": {},
   "outputs": [],
   "source": [
    "# main URL area, contain for each novel \n",
    "url = \"https://www.xbiquge.so/book/49549/\""
   ]
  },
  {
   "cell_type": "code",
   "execution_count": 2,
   "metadata": {},
   "outputs": [
    {
     "name": "stderr",
     "output_type": "stream",
     "text": [
      "/Users/tianqiliu/opt/anaconda3/lib/python3.7/site-packages/requests/__init__.py:91: RequestsDependencyWarning: urllib3 (1.26.7) or chardet (3.0.4) doesn't match a supported version!\n",
      "  RequestsDependencyWarning)\n"
     ]
    }
   ],
   "source": [
    "# import area\n",
    "import requests\n",
    "from bs4 import BeautifulSoup\n",
    "import numpy as np\n",
    "import threading"
   ]
  },
  {
   "cell_type": "code",
   "execution_count": 3,
   "metadata": {},
   "outputs": [],
   "source": [
    "# Parse the html text and retreive all the chapters \n",
    "r = requests.get(url)\n",
    "soup = BeautifulSoup(r.text)\n",
    "\n",
    "# Since BiQuGe use cache in their website, we need to drop first 12 website\n",
    "# which are the newest 12 chapters and have been included later\n",
    "sub_url_list = soup.find(id='list').find_all('a')[12:]\n",
    "sub_url_list = [sub_url.get(\"href\") for sub_url in sub_url_list]\n",
    "title = str(soup.find(id='list').find(\"dt\")).split(\"》\")[0].split(\"《\")[1]\n",
    "lock = threading.Lock()\n",
    "chapter_lab = {}\n",
    "try:\n",
    "    f = open(f\"{title}_cache.txt\", \"r\")\n",
    "    cache = f.read()\n",
    "    sub_url_list = sub_url_list[sub_url_list.index(cache)+1:]\n",
    "    if not sub_url_list:\n",
    "        print(\"No updated chapters\")\n",
    "except:\n",
    "    sub_url_list = sub_url_list"
   ]
  },
  {
   "cell_type": "code",
   "execution_count": 4,
   "metadata": {},
   "outputs": [],
   "source": [
    "# By checking the corresponding website to retrieve content\n",
    "def get_text_and_title(url, sub_url):\n",
    "#     sub_url = sub_url_list[0]\n",
    "    chapter_url = url + sub_url\n",
    "    r = requests.get(chapter_url)\n",
    "    soup = BeautifulSoup(r.text)\n",
    "    sub_text = \" \\n\".join(soup.find(id='content').text.split(\"\\xa0\\xa0\\xa0\\xa0\")[1:])\n",
    "    sub_title = soup.find(\"title\").text.split(\"_\")[0]\n",
    "    return sub_text, sub_title"
   ]
  },
  {
   "cell_type": "code",
   "execution_count": 5,
   "metadata": {},
   "outputs": [],
   "source": [
    "# the function used in multi-thread\n",
    "def get_list_text(selected_list):\n",
    "    global chapter_lab, lock\n",
    "    for index, sub_url in selected_list:\n",
    "        sub_text, sub_title = get_text_and_title(url, sub_url)\n",
    "        lock.acquire()\n",
    "        chapter_lab[int(index)] = [sub_title, sub_text]\n",
    "        lock.release()\n",
    "    return"
   ]
  },
  {
   "cell_type": "code",
   "execution_count": 6,
   "metadata": {},
   "outputs": [],
   "source": [
    "workers = 100\n",
    "# sub_url_list = sub_url_list[:100]\n",
    "indexed_list = [[index, i] for index, i in enumerate(sub_url_list)]\n",
    "n_worker_pools = [[] for _ in range(workers)]\n",
    "# Let n_workers to work as a pipeline, so that we do not need to wait one worker to finish\n",
    "# his parts and then the next\n",
    "for index, link in enumerate(sub_url_list):\n",
    "    n_worker_pools[index%workers].append([index, link])\n",
    "# First edition, we need to wait the first worker done and then move to the next\n",
    "# n_worker_pools = list(np.array_split(indexed_list, workers))\n",
    "for pool in n_worker_pools:\n",
    "    threading.Thread(target=get_list_text, args=(pool,)).start()"
   ]
  },
  {
   "cell_type": "code",
   "execution_count": 12,
   "metadata": {
    "scrolled": true
   },
   "outputs": [
    {
     "name": "stdout",
     "output_type": "stream",
     "text": [
      "Writing chapter 第一章 我只想当个窝囊废\n",
      "Writing chapter 第二章 颠倒黑白\n",
      "Writing chapter 第三章 好\n",
      "Writing chapter 第四章 是因为她\n",
      "Writing chapter 第五章 对不起\n",
      "Writing chapter 第六章 签订合同\n",
      "Writing chapter 第七章 愿赌服输\n",
      "Writing chapter 第八章 负责人变更\n",
      "Writing chapter 第九章 鸡贼的人\n",
      "Writing chapter 第十章 强势\n",
      "Writing chapter 第十一章 提线木偶\n",
      "Writing chapter 第十二章 士别三日\n",
      "Writing chapter 第十三章 神秘买家\n",
      "Writing chapter 第十四章 狗眼看人低\n",
      "Writing chapter 第十五章 真付钱了！\n",
      "Writing chapter 第十六章 意外走红\n",
      "Writing chapter 第十七章 再来一辆\n",
      "Writing chapter 第十八章 包下餐厅\n",
      "Writing chapter 第十九章 哪个王八蛋\n",
      "Writing chapter 第二十章 二十二号到了\n",
      "Writing chapter 第二十一章 玫瑰飘零，轰动云城\n",
      "Writing chapter 第二十二章 酣睡的猛虎\n",
      "Writing chapter 第二十三章 麻烦降临\n",
      "Writing chapter 第二十四章 快了，快乐\n",
      "Writing chapter 第二十五章 阴险计划\n",
      "Writing chapter 第二十六章 死字怎么写\n",
      "Writing chapter 第二十七章 真的是窝囊废吗？\n",
      "Writing chapter 第二十八章 污蔑\n",
      "Writing chapter 第二十九章 偏袒\n",
      "Writing chapter 第三十章 墨阳\n",
      "Writing chapter 第三十一章 一人足矣\n",
      "Writing chapter 第三十二章 云城，我回来了\n",
      "Writing chapter 第三十三章 奇葩的一家三口\n",
      "Writing chapter 第三十四章 睁眼说瞎话\n",
      "Writing chapter 第三十五章 不知死活的刘花\n",
      "Writing chapter 第三十六章 找他帮忙？\n",
      "Writing chapter 第三十七章 都是摔倒的\n",
      "Writing chapter 第三十八章\n",
      "Writing chapter 第三十九章 小心你们的钱\n",
      "Writing chapter 第四十章 无理取闹？\n",
      "Writing chapter 第四十一章 跪迎相送\n",
      "Writing chapter 第四十二章 我们家也买房了\n",
      "Writing chapter 第四十三章 二手房？\n",
      "Writing chapter 第四十四章 告诉你一个秘密\n",
      "Writing chapter 第四十五章 云顶山的规矩\n",
      "Writing chapter 第四十六章 车祸\n",
      "Writing chapter 第四十七章 混世小魔王\n",
      "Writing chapter 第四十八章 反咬一口\n",
      "Writing chapter 第四十九章 爆出实情\n",
      "Writing chapter 第五十章 弟弟叫啥名？\n",
      "Writing chapter 第五十一章 厚颜无耻的蒋岚\n",
      "Writing chapter 第五十二章 买车换房？\n",
      "Writing chapter 第五十三章 狠辣手段？\n",
      "Writing chapter 第五十四章 去看看新家\n",
      "Writing chapter 第五十五章 你的口红不错\n",
      "Writing chapter 第五十六章 接错人了？\n",
      "Writing chapter 第五十七章 你能打开门吗？\n",
      "Writing chapter 第五十八章 争风头\n",
      "Writing chapter 第五十九章 人之贱则无敌\n",
      "Writing chapter 第六十章 你有什么资格住进来？\n",
      "Writing chapter 第六十一章 敢不离吗？\n",
      "Writing chapter 第六十二章 换合作商？\n",
      "Writing chapter 第六十三章 我不尽力？\n",
      "Writing chapter 第六十四章 我让你睡床！\n",
      "Writing chapter 第六十五章 这是我的家！\n",
      "Writing chapter 第六十六章 给你舔鞋？\n",
      "Writing chapter 第六十七章 你是韩三千！\n",
      "Writing chapter 第六十八章 记住我的名字\n",
      "Writing chapter 第六十九章 给她道歉\n",
      "Writing chapter 第七十章 君子藏器于身，待时而动\n",
      "Writing chapter 第七十一章 我是为了你好\n",
      "Writing chapter 第七十二章 有多美\n",
      "Writing chapter 第七十三章 看不起我？\n",
      "Writing chapter 第七十四章 这些废物能伤我？\n",
      "Writing chapter 第七十五章 刀十二\n",
      "Writing chapter 第七十六章 牵手\n",
      "Writing chapter 第七十七章 尴尬了\n",
      "Writing chapter 第七十八章 苏家危机\n",
      "Writing chapter 第七十九章 贷款十亿\n",
      "Writing chapter 第八十章 让你后悔做人\n",
      "Writing chapter 第八十一章 蜻蜓点水\n",
      "Writing chapter 第八十二章 偶遇沈灵瑶\n",
      "Writing chapter 第八十三章 翻涌的醋意\n",
      "Writing chapter 第八十四章 过河拆桥\n",
      "Writing chapter 第八十五章 挖不动的墙角\n",
      "Writing chapter 第八十六章 同学会\n",
      "Writing chapter 第八十七章 假装钢琴小王子\n",
      "Writing chapter 第八十八章 他才是真的\n",
      "Writing chapter 第八十九章 苏迎夏挨打\n",
      "Writing chapter 第九十章 怒了\n",
      "Writing chapter 第九十一章 我视你为蝼蚁\n",
      "Writing chapter 第九十二章 未卜先知\n",
      "Writing chapter 第九十三章 反击\n",
      "Writing chapter 第九十四章 红线规矩\n",
      "Writing chapter 第九十五章 叶飞，必死！\n",
      "Writing chapter 第九十六章 误会大了！\n",
      "Writing chapter 第九十七章 就是他！\n",
      "Writing chapter 第九十八掌 蛇鼠一窝\n",
      "Writing chapter 第九十九章 直来直往\n",
      "Writing chapter 第一百章 杀意\n",
      "Done\n"
     ]
    }
   ],
   "source": [
    "index = 0\n",
    "f = open(f\"{title}.txt\", \"w\")\n",
    "# while index < len(indexed_list):\n",
    "while index < 100:\n",
    "    lock.acquire()\n",
    "    if index in chapter_lab:\n",
    "        sub_title, sub_text = chapter_lab[index]\n",
    "        f.write(\"\\n ------- \\n\")\n",
    "        f.write(\"\\n\\n # \"+sub_title + \" \\n\\n\")\n",
    "        print(f\"Writing chapter {sub_title}\")\n",
    "        f.write(sub_text)\n",
    "        f.write(\"\\n\")\n",
    "        index += 1\n",
    "    lock.release()\n",
    "f.close()\n",
    "print(\"Done\")"
   ]
  },
  {
   "cell_type": "code",
   "execution_count": 8,
   "metadata": {},
   "outputs": [],
   "source": [
    "f = open(f\"{title}_cache.txt\", \"w\")\n",
    "f.write(sub_url_list[-1])\n",
    "f.close()"
   ]
  },
  {
   "cell_type": "code",
   "execution_count": 11,
   "metadata": {},
   "outputs": [],
   "source": [
    "# Debug use\n",
    "# lock.release()"
   ]
  },
  {
   "cell_type": "code",
   "execution_count": null,
   "metadata": {},
   "outputs": [],
   "source": []
  }
 ],
 "metadata": {
  "kernelspec": {
   "display_name": "Python 3",
   "language": "python",
   "name": "python3"
  },
  "language_info": {
   "codemirror_mode": {
    "name": "ipython",
    "version": 3
   },
   "file_extension": ".py",
   "mimetype": "text/x-python",
   "name": "python",
   "nbconvert_exporter": "python",
   "pygments_lexer": "ipython3",
   "version": "3.7.4"
  }
 },
 "nbformat": 4,
 "nbformat_minor": 2
}
