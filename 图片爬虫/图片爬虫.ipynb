{
 "cells": [
  {
   "cell_type": "code",
   "execution_count": 82,
   "metadata": {},
   "outputs": [],
   "source": [
    "import requests\n",
    "import json"
   ]
  },
  {
   "cell_type": "code",
   "execution_count": 83,
   "metadata": {},
   "outputs": [],
   "source": [
    "baidu_url = 'https://image.baidu.com/search/acjson?tn=resultjson_com&ipn=rj&ct=201326592&is=&fp=result&queryWord=%E6%96%B0%E5%9E%A3%E7%BB%93%E8%A1%A3&cl=2&lm=-1&ie=utf-8&oe=utf-8&adpicid=&st=-1&z=&ic=&hd=&latest=&copyright=&word=%E6%96%B0%E5%9E%A3%E7%BB%93%E8%A1%A3&s=&se=&tab=&width=&height=&face=&istype=2&qc=&nc=1&fr=&expermode=&force=&cg=star&pn=60&rn=30&gsm=3c&1596552269787='"
   ]
  },
  {
   "cell_type": "code",
   "execution_count": 84,
   "metadata": {},
   "outputs": [],
   "source": [
    "def get_query(pn, name):\n",
    "    return {\n",
    "    'tn': 'resultjson_com',\n",
    "    'ipn': 'rj',\n",
    "    'ct': '201326592', \n",
    "    'fp': 'result',\n",
    "    'queryWord': name,\n",
    "    'cg': 'star',\n",
    "    'pn': pn,\n",
    "    'rn': '30',\n",
    "    'word': name\n",
    "}"
   ]
  },
  {
   "cell_type": "code",
   "execution_count": 85,
   "metadata": {},
   "outputs": [],
   "source": [
    "pn = 0\n",
    "name = '石原里美'\n",
    "url = baidu_url\n",
    "pics = []\n",
    "for i in range(3):\n",
    "    pn = i * 30\n",
    "    r = requests.get(url,params = get_query(pn, name))\n",
    "    for j in range(30):\n",
    "        pics.append(json.loads(r.text)['data'][j]['thumbURL'])\n"
   ]
  },
  {
   "cell_type": "markdown",
   "metadata": {},
   "source": [
    "# 保存图片"
   ]
  },
  {
   "cell_type": "code",
   "execution_count": 86,
   "metadata": {},
   "outputs": [
    {
     "name": "stdout",
     "output_type": "stream",
     "text": [
      "200\n"
     ]
    }
   ],
   "source": [
    "import urllib\n",
    "import urllib.request\n",
    "import os\n",
    "print(r.status_code) # 返回状态码\n",
    "filepath = 'C:/Users/ll450/Desktop/{}/'.format(name)\n",
    "index = 0\n",
    "for i in range(len(pics)):\n",
    "    r = requests.get(pics[i])\n",
    "    if r.status_code == 200:\n",
    "        if not os.path.exists(filepath):\n",
    "            os.makedirs(filepath) #如果没有这个path则直接创建\n",
    "        file_suffix = os.path.splitext(pics[0])[1]\n",
    "        file_suffix = name + str(i) + file_suffix\n",
    "        filename = '{}{}'.format(filepath, file_suffix)\n",
    "        urllib.request.urlretrieve(pics[i], filename=filename)\n",
    "   "
   ]
  },
  {
   "cell_type": "code",
   "execution_count": 80,
   "metadata": {},
   "outputs": [],
   "source": [
    "def save_image(image_url):\n",
    "    try:\n",
    "        img_file = requests.get(image_url)\n",
    "    except requests.exceptions.RequestException as e:\n",
    "        raise e\n",
    "    # 保存\n",
    "    with open(filepath, 'w') as f:\n",
    "        f.write(img_file.content)\n",
    "        \n"
   ]
  },
  {
   "cell_type": "code",
   "execution_count": null,
   "metadata": {},
   "outputs": [],
   "source": []
  }
 ],
 "metadata": {
  "kernelspec": {
   "display_name": "Python 3",
   "language": "python",
   "name": "python3"
  },
  "language_info": {
   "codemirror_mode": {
    "name": "ipython",
    "version": 3
   },
   "file_extension": ".py",
   "mimetype": "text/x-python",
   "name": "python",
   "nbconvert_exporter": "python",
   "pygments_lexer": "ipython3",
   "version": "3.7.6"
  }
 },
 "nbformat": 4,
 "nbformat_minor": 4
}
