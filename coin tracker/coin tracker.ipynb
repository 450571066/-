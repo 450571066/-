{
 "cells": [
  {
   "cell_type": "code",
   "execution_count": 5,
   "metadata": {},
   "outputs": [],
   "source": [
    "from bs4 import BeautifulSoup \n",
    "import requests \n",
    "import time\n",
    "def get_crypto_price_robin(coin):\n",
    "    url                 = \"https://robinhood.com/crypto/\"+coin\n",
    "    HTML                = requests.get(url)\n",
    "    soup                = BeautifulSoup(HTML.text,'html.parser')\n",
    "    crypto_name         = coin\n",
    "    price_text          = soup.find(\"div\",{\"class\":[\"_1Nw7xfQTjIvcCkNYkwQMzL\"]}).text\n",
    "    price               = float(price_text.replace(\"$\",\"\").replace(\",\",\"\"))\n",
    "    price_chg_daily     = soup.find(\"div\",{\"class\":[\"_27rSsse3BjeLj7Y1bhIE_9\"]}).text\n",
    "    crypto_obj  = {\n",
    "        \"crypto\"        : coin\n",
    "        ,\"crypto_name\"  : crypto_name\n",
    "        ,\"price\"        : price\n",
    "        ,\"price_chg_d\"  : price_chg_daily\n",
    "    }\n",
    "    return crypto_obj"
   ]
  },
  {
   "cell_type": "code",
   "execution_count": 7,
   "metadata": {},
   "outputs": [
    {
     "name": "stdout",
     "output_type": "stream",
     "text": [
      "{'crypto': 'doge', 'crypto_name': 'doge', 'price': 0.15314, 'price_chg_d': '-$0.000730 (-0.47%) Today'}\n"
     ]
    }
   ],
   "source": [
    "# print(get_crypto_price_robin(\"ETH\"))\n",
    "print(get_crypto_price_robin(\"doge\"))\n",
    "# print(get_crypto_price_robin(\"btc\"))"
   ]
  },
  {
   "cell_type": "code",
   "execution_count": null,
   "metadata": {},
   "outputs": [],
   "source": []
  }
 ],
 "metadata": {
  "kernelspec": {
   "display_name": "Python 3",
   "language": "python",
   "name": "python3"
  },
  "language_info": {
   "codemirror_mode": {
    "name": "ipython",
    "version": 3
   },
   "file_extension": ".py",
   "mimetype": "text/x-python",
   "name": "python",
   "nbconvert_exporter": "python",
   "pygments_lexer": "ipython3",
   "version": "3.7.3"
  }
 },
 "nbformat": 4,
 "nbformat_minor": 2
}
