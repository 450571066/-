{
 "cells": [
  {
   "cell_type": "code",
   "execution_count": 16,
   "metadata": {},
   "outputs": [],
   "source": [
    "import requests"
   ]
  },
  {
   "cell_type": "code",
   "execution_count": 50,
   "metadata": {},
   "outputs": [],
   "source": [
    "csrf = '1ef5c89d9d2fd1313eb8d99ebe7f5ed9'"
   ]
  },
  {
   "cell_type": "markdown",
   "metadata": {},
   "source": [
    "# URL"
   ]
  },
  {
   "cell_type": "code",
   "execution_count": 48,
   "metadata": {},
   "outputs": [],
   "source": [
    "triple_url = 'https://api.bilibili.com/x/web-interface/archive/like/triple'\n",
    "like_url = 'https://api.bilibili.com/x/web-interface/archive/like'\n",
    "comment_url = 'https://api.bilibili.com/x/v2/reply/add'"
   ]
  },
  {
   "cell_type": "markdown",
   "metadata": {},
   "source": [
    "# Headers"
   ]
  },
  {
   "cell_type": "code",
   "execution_count": 91,
   "metadata": {},
   "outputs": [],
   "source": [
    "triple_header = {\n",
    "    'authority' : 'api.bilibili.com',\n",
    "    'method': 'POST',\n",
    "    'path':  '/x/web-interface/archive/like/triple',\n",
    "    'scheme': 'https',\n",
    "    'accept': 'application/json, text/plain, */*',\n",
    "    'accept-encoding': 'gzip, deflate, br',\n",
    "    'accept-language': 'en-US,en;q=0.9,zh-CN;q=0.8,zh;q=0.7',\n",
    "    'content-length': '51',\n",
    "    'content-type': 'application/x-www-form-urlencoded',\n",
    "    'cookie': '_uuid=343EF0D2-3B04-C42A-2D90-D631DBD6C26337720infoc; buvid3=02E516C3-FAFC-464C-887E-7DDA5DCD2721138377infoc; bfe_id=5112800f2e3d3cf17a473918472e345c; sid=6nlpwzj9; DedeUserID=4596647; DedeUserID__ckMd5=d028c2b08705ca47; SESSDATA=30946d12%2C1612086193%2Cb0dd2*81; bili_jct=1ef5c89d9d2fd1313eb8d99ebe7f5ed9; CURRENT_FNVAL=16',\n",
    "    'origin': 'https://www.bilibili.com',\n",
    "    'referer': 'https://www.bilibili.com/video/BV1ip4y1q7C7?spm_id_from=333.851.b_62696c695f7265706f72745f646f756761.40',\n",
    "    'sec-fetch-dest': 'empty',\n",
    "    'sec-fetch-mode': 'cors',\n",
    "    'sec-fetch-site': 'same-site',\n",
    "    'user-agent': 'Mozilla/5.0 (Windows NT 10.0; Win64; x64) AppleWebKit/537.36 (KHTML, like Gecko) Chrome/84.0.4147.89 Safari/537.36'\n",
    "}\n",
    "\n",
    "like_header = {\n",
    "    'authority': 'api.bilibili.com',\n",
    "    'method': 'POST',\n",
    "    'path': '/x/web-interface/archive/like',\n",
    "    'scheme': 'https',\n",
    "    'accept': 'application/json, text/plain, */*',\n",
    "    'accept-encoding': 'gzip, deflate, br',\n",
    "    'accept-language': 'en-US,en;q=0.9,zh-CN;q=0.8,zh;q=0.7',\n",
    "    'content-length': '58',\n",
    "    'content-type': 'application/x-www-form-urlencoded',\n",
    "    'cookie': '_uuid=343EF0D2-3B04-C42A-2D90-D631DBD6C26337720infoc; buvid3=02E516C3-FAFC-464C-887E-7DDA5DCD2721138377infoc; sid=6nlpwzj9; DedeUserID=4596647; DedeUserID__ckMd5=d028c2b08705ca47; SESSDATA=30946d12%2C1612086193%2Cb0dd2*81; bili_jct=1ef5c89d9d2fd1313eb8d99ebe7f5ed9; CURRENT_FNVAL=16; PVID=2; bfe_id=61a513175dc1ae8854a560f6b82b37af',\n",
    "    'origin': 'https://www.bilibili.com',\n",
    "    'referer': 'https://www.bilibili.com/video/BV1e54y1q75P?spm_id_from=333.788.b_765f64657363.1',\n",
    "    'sec-fetch-dest': 'empty',\n",
    "    'sec-fetch-mode': 'cors',\n",
    "    'sec-fetch-site': 'same-site',\n",
    "    'user-agent': 'Mozilla/5.0 (Windows NT 10.0; Win64; x64) AppleWebKit/537.36 (KHTML, like Gecko) Chrome/84.0.4147.89 Safari/537.36'\n",
    "}\n",
    "\n",
    "comment_header = {\n",
    "    'authority': 'api.bilibili.com',\n",
    "    'method': 'POST',\n",
    "    'path': '/x/v2/reply/add',\n",
    "    'scheme': 'https',\n",
    "    'accept': 'application/json, text/javascript, */*; q=0.01',\n",
    "    'accept-encoding': 'gzip, deflate, br',\n",
    "    'accept-language': 'en-US,en;q=0.9,zh-CN;q=0.8,zh;q=0.7',\n",
    "    'content-length': '122',\n",
    "    'content-type': 'application/x-www-form-urlencoded; charset=UTF-8',\n",
    "    'cookie': '_uuid=343EF0D2-3B04-C42A-2D90-D631DBD6C26337720infoc; buvid3=02E516C3-FAFC-464C-887E-7DDA5DCD2721138377infoc; sid=6nlpwzj9; DedeUserID=4596647; DedeUserID__ckMd5=d028c2b08705ca47; SESSDATA=30946d12%2C1612086193%2Cb0dd2*81; bili_jct=1ef5c89d9d2fd1313eb8d99ebe7f5ed9; CURRENT_FNVAL=16; PVID=2; bfe_id=61a513175dc1ae8854a560f6b82b37af',\n",
    "    'origin': 'https://www.bilibili.com',\n",
    "    'referer': 'https://www.bilibili.com/video/BV1e54y1q75P?spm_id_from=333.788.b_765f64657363.1',\n",
    "    'sec-fetch-dest': 'empty',\n",
    "    'sec-fetch-mode': 'cors',\n",
    "    'sec-fetch-site': 'same-site',\n",
    "    'user-agent': 'Mozilla/5.0 (Windows NT 10.0; Win64; x64) AppleWebKit/537.36 (KHTML, like Gecko) Chrome/84.0.4147.89 Safari/537.36'\n",
    "}\n",
    "\n",
    "all_video_header = {\n",
    "    'authority': 'api.bilibili.com',\n",
    "    'method': 'GET',\n",
    "    'path': '/x/space/arc/search?mid=14110780&ps=30&tid=0&pn=1&keyword=&order=pubdate&jsonp=jsonp',\n",
    "    'scheme': 'https',\n",
    "    'accept': 'text/html,application/xhtml+xml,application/xml;q=0.9,image/webp,image/apng,*/*;q=0.8,application/signed-exchange;v=b3;q=0.9',\n",
    "    'accept-encoding': 'gzip, deflate, br',\n",
    "    'accept-language': 'en-US,en;q=0.9,zh-CN;q=0.8,zh;q=0.7',\n",
    "    'cookie': '_uuid=343EF0D2-3B04-C42A-2D90-D631DBD6C26337720infoc; buvid3=02E516C3-FAFC-464C-887E-7DDA5DCD2721138377infoc; sid=6nlpwzj9; DedeUserID=4596647; DedeUserID__ckMd5=d028c2b08705ca47; SESSDATA=30946d12%2C1612086193%2Cb0dd2*81; bili_jct=1ef5c89d9d2fd1313eb8d99ebe7f5ed9; CURRENT_FNVAL=16; PVID=2; bfe_id=61a513175dc1ae8854a560f6b82b37af',\n",
    "    'sec-fetch-dest': 'document',\n",
    "    'sec-fetch-mode': 'navigate',\n",
    "    'sec-fetch-site': 'none',\n",
    "    'sec-fetch-user': '?1',\n",
    "    'upgrade-insecure-requests': '1',\n",
    "    'user-agent': 'Mozilla/5.0 (Windows NT 10.0; Win64; x64) AppleWebKit/537.36 (KHTML, like Gecko) Chrome/84.0.4147.89 Safari/537.36'\n",
    "}"
   ]
  },
  {
   "cell_type": "markdown",
   "metadata": {},
   "source": [
    "# Data"
   ]
  },
  {
   "cell_type": "code",
   "execution_count": 1,
   "metadata": {},
   "outputs": [],
   "source": [
    "def triple_data(aid, csrf):\n",
    "    return {\n",
    "    'aid': aid,\n",
    "    'csrf': csrf\n",
    "}\n",
    "def like_data(aid, like, csrf):\n",
    "    return{\n",
    "        'aid': aid,\n",
    "        'like': like,\n",
    "        'csrf': csrf\n",
    "}\n",
    "def comment_data(oid, message, csrf):\n",
    "    return {\n",
    "        'oid': oid,  #aid\n",
    "        'type': '1',\n",
    "        'message': message,\n",
    "        'plat': '1',\n",
    "        'jsonp': 'jsonp',\n",
    "        'csrf': csrf\n",
    "    }"
   ]
  },
  {
   "cell_type": "code",
   "execution_count": 54,
   "metadata": {},
   "outputs": [],
   "source": [
    "aid = '841379951'"
   ]
  },
  {
   "cell_type": "markdown",
   "metadata": {},
   "source": [
    "# 三连"
   ]
  },
  {
   "cell_type": "code",
   "execution_count": 43,
   "metadata": {},
   "outputs": [
    {
     "data": {
      "text/plain": [
       "b'{\"code\":0,\"message\":\"0\",\"ttl\":1,\"data\":{\"like\":true,\"coin\":true,\"fav\":true,\"multiply\":0}}'"
      ]
     },
     "execution_count": 43,
     "metadata": {},
     "output_type": "execute_result"
    }
   ],
   "source": [
    "triple_response = requests.post(triple_url, headers = triple_header, data = triple_data(aid, csrf))\n",
    "triple_response.content"
   ]
  },
  {
   "cell_type": "markdown",
   "metadata": {},
   "source": [
    "# 点赞"
   ]
  },
  {
   "cell_type": "code",
   "execution_count": 150,
   "metadata": {},
   "outputs": [
    {
     "data": {
      "text/plain": [
       "b'{\"code\":65006,\"message\":\"\\xe5\\xb7\\xb2\\xe8\\xb5\\x9e\\xe8\\xbf\\x87\",\"ttl\":1}'"
      ]
     },
     "execution_count": 150,
     "metadata": {},
     "output_type": "execute_result"
    }
   ],
   "source": [
    "like = 1 # 1 -> like, 2 -> unlike\n",
    "like_response = requests.post(like_url, headers = like_header, data = like_data(aid,like,csrf))\n",
    "like_response.content"
   ]
  },
  {
   "cell_type": "markdown",
   "metadata": {},
   "source": [
    "# 评论"
   ]
  },
  {
   "cell_type": "code",
   "execution_count": 55,
   "metadata": {},
   "outputs": [
    {
     "data": {
      "text/plain": [
       "b'{\"code\":0,\"message\":\"0\",\"ttl\":1,\"data\":{\"success_action\":0,\"success_toast\":\"\\xe5\\x8f\\x91\\xe9\\x80\\x81\\xe6\\x88\\x90\\xe5\\x8a\\x9f\",\"need_captcha\":false,\"url\":\"\",\"rpid\":3288867339,\"rpid_str\":\"3288867339\",\"dialog\":0,\"dialog_str\":\"0\",\"root\":0,\"root_str\":\"0\",\"parent\":0,\"parent_str\":\"0\",\"reply\":{\"rpid\":3288867339,\"oid\":841379951,\"type\":1,\"mid\":4596647,\"root\":0,\"parent\":0,\"dialog\":0,\"count\":0,\"rcount\":0,\"state\":0,\"fansgrade\":1,\"attr\":0,\"ctime\":1596537303,\"rpid_str\":\"3288867339\",\"root_str\":\"0\",\"parent_str\":\"0\",\"like\":0,\"action\":0,\"member\":{\"mid\":\"4596647\",\"uname\":\"-\\xe5\\x91\\xa8\\xe7\\x9a\\xae\\xe7\\x9a\\xae-\",\"sex\":\"\\xe7\\x94\\xb7\",\"sign\":\"EL PSY CONGROO\",\"avatar\":\"http://i1.hdslb.com/bfs/face/00570c2f6fa36c53c190c25fc3efc3a8f38ed0ef.jpg\",\"rank\":\"10000\",\"DisplayRank\":\"0\",\"level_info\":{\"current_level\":5,\"current_min\":0,\"current_exp\":0,\"next_exp\":0},\"pendant\":{\"pid\":1885,\"name\":\"\\xe5\\x85\\xac\\xe4\\xb8\\xbb\\xe8\\xbf\\x9e\\xe7\\xbb\\x93\\xe5\\x87\\xaf\\xe9\\x9c\\xb2\",\"image\":\"http://i2.hdslb.com/bfs/garb/item/ecf1b11044845abc92e576dfdf93ad4f5e5a0958.png\",\"expire\":0,\"image_enhance\":\"http://i2.hdslb.com/bfs/garb/item/ecf1b11044845abc92e576dfdf93ad4f5e5a0958.png\"},\"nameplate\":{\"nid\":74,\"name\":\"\\xe5\\xa4\\xa7\\xe4\\xbc\\x9a\\xe5\\x91\\x982018\\xe5\\xb9\\xb4\\xe5\\xba\\xa6\\xe5\\x8b\\x8b\\xe7\\xab\\xa0\",\"image\":\"http://i0.hdslb.com/bfs/face/421179426c929dfeaed4117461c83f5d07ffb148.png\",\"image_small\":\"http://i0.hdslb.com/bfs/face/682001c2e1c2ae887bdf2a0e18eef61180c48f84.png\",\"level\":\"\\xe7\\xa8\\x80\\xe6\\x9c\\x89\\xe5\\x8b\\x8b\\xe7\\xab\\xa0\",\"condition\":\"2018.6.26-7.8\\xe6\\x9f\\x90\\xe4\\xb8\\x80\\xe5\\xa4\\xa9\\xe6\\x98\\xaf\\xe5\\xb9\\xb4\\xe5\\xba\\xa6\\xe5\\xa4\\xa7\\xe4\\xbc\\x9a\\xe5\\x91\\x98\"},\"official_verify\":{\"type\":-1,\"desc\":\"\"},\"vip\":{\"vipType\":2,\"vipDueDate\":1621785600000,\"dueRemark\":\"\",\"accessStatus\":0,\"vipStatus\":1,\"vipStatusWarn\":\"\",\"themeType\":0,\"label\":{\"path\":\"\",\"text\":\"\\xe5\\xb9\\xb4\\xe5\\xba\\xa6\\xe5\\xa4\\xa7\\xe4\\xbc\\x9a\\xe5\\x91\\x98\",\"label_theme\":\"annual_vip\"}},\"fans_detail\":{\"uid\":4596647,\"medal_id\":19947,\"medal_name\":\"\\xe5\\xb0\\x91\\xe5\\xba\\x9f\\xe8\\xaf\\x9d\",\"score\":0,\"level\":1,\"intimacy\":0,\"master_status\":1,\"is_receive\":1},\"following\":0,\"is_followed\":0,\"user_sailing\":{\"pendant\":{\"id\":1885,\"name\":\"\\xe5\\x85\\xac\\xe4\\xb8\\xbb\\xe8\\xbf\\x9e\\xe7\\xbb\\x93\\xe5\\x87\\xaf\\xe9\\x9c\\xb2\",\"image\":\"http://i0.hdslb.com/bfs/garb/item/ecf1b11044845abc92e576dfdf93ad4f5e5a0958.png\",\"jump_url\":\"\",\"type\":\"vip\"},\"cardbg\":null,\"cardbg_with_focus\":null}},\"content\":{\"message\":\"\\xe5\\x87\\x89\\xe9\\xa3\\x8e\\xe5\\xa4\\xaa\\xe5\\xbc\\xba\\xe4\\xba\\x86\",\"plat\":1,\"device\":\"\",\"members\":[],\"jump_url\":{},\"max_line\":999},\"replies\":null,\"assist\":0,\"folder\":{\"has_folded\":false,\"is_folded\":false,\"rule\":\"https://www.bilibili.com/blackboard/foldingreply.html\"},\"up_action\":{\"like\":false,\"reply\":false},\"show_follow\":false}}}'"
      ]
     },
     "execution_count": 55,
     "metadata": {},
     "output_type": "execute_result"
    }
   ],
   "source": [
    "message = \"凉风太强了 \"\n",
    "comment_response = requests.post(comment_url, headers = comment_header, data = comment_data(aid, message, csrf))\n",
    "comment_response.content"
   ]
  },
  {
   "cell_type": "code",
   "execution_count": 88,
   "metadata": {},
   "outputs": [],
   "source": [
    "url = 'https://www.bilibili.com/video/av170001'\n",
    "r = requests.get(url)"
   ]
  },
  {
   "cell_type": "code",
   "execution_count": 89,
   "metadata": {},
   "outputs": [
    {
     "name": "stdout",
     "output_type": "stream",
     "text": [
      "170001\n"
     ]
    }
   ],
   "source": [
    "text = r.text\n",
    "nPos=r.text.find('aid')\n",
    "nPos+=5\n",
    "n = 1\n",
    "retNum = 0\n",
    "while True:\n",
    "    try:\n",
    "        retNum = int(text[nPos:nPos+n])\n",
    "        n += 1\n",
    "    except:\n",
    "        break\n",
    "print(retNum)"
   ]
  },
  {
   "cell_type": "markdown",
   "metadata": {},
   "source": [
    "# 转换准备工作"
   ]
  },
  {
   "cell_type": "code",
   "execution_count": null,
   "metadata": {},
   "outputs": [],
   "source": [
    "table='fZodR9XQDSUm21yCkr6zBqiveYah8bt4xsWpHnJE7jL5VG3guMTKNPAwcF'\n",
    "tr={}\n",
    "for i in range(58):\n",
    "    tr[table[i]]=i\n",
    "s=[11,10,3,8,4,6]\n",
    "xor=177451812\n",
    "add=8728348608"
   ]
  },
  {
   "cell_type": "markdown",
   "metadata": {},
   "source": [
    "## BV -> AV(aid)"
   ]
  },
  {
   "cell_type": "code",
   "execution_count": 87,
   "metadata": {},
   "outputs": [
    {
     "name": "stdout",
     "output_type": "stream",
     "text": [
      "969115962\n"
     ]
    }
   ],
   "source": [
    "def dec(x):\n",
    "    r=0\n",
    "    for i in range(6):\n",
    "        r+=tr[x[s[i]]]*58**i\n",
    "    return (r-add)^xor\n",
    "print(dec('BV1ip4y1q7C7'))"
   ]
  },
  {
   "cell_type": "markdown",
   "metadata": {},
   "source": [
    "## AV -> BV"
   ]
  },
  {
   "cell_type": "code",
   "execution_count": null,
   "metadata": {},
   "outputs": [],
   "source": [
    "def enc(x):\n",
    "    x=(x^xor)+add\n",
    "    r=list('BV1  4 1 7  ')\n",
    "    for i in range(6):\n",
    "        r[s[i]]=table[x//58**i%58]\n",
    "    return ''.join(r)"
   ]
  },
  {
   "cell_type": "markdown",
   "metadata": {},
   "source": [
    "# 获得所有视频"
   ]
  },
  {
   "cell_type": "code",
   "execution_count": 93,
   "metadata": {},
   "outputs": [],
   "source": [
    "def all_video_url(upid, ps, pn):\n",
    "    return \"https://api.bilibili.com/x/space/arc/search?mid=\" + str(upid) + \"&ps=\" + str(ps) + \"&tid=0&pn=\" + str(pn) + \"&keyword=&order=pubdate&jsonp=jsonp\""
   ]
  },
  {
   "cell_type": "code",
   "execution_count": 142,
   "metadata": {},
   "outputs": [
    {
     "name": "stdout",
     "output_type": "stream",
     "text": [
      "-------------Doing page1---------------\n",
      "Done!\n"
     ]
    }
   ],
   "source": [
    "ps = 50\n",
    "upid = 375538\n",
    "r = requests.get(all_video_url(upid,ps,1), headers = all_video_header)\n",
    "\n",
    "jsonText = json.loads(r.text)\n",
    "totalVideoNums = jsonText['data']['page']['count']\n",
    "page = (totalVideoNums - 1)//ps + 1\n",
    "videoInfo = {}\n",
    "vlist = jsonText['data']['list']['vlist']\n",
    "print(\"-------------Doing page{}---------------\".format(1))\n",
    "for v in vlist:\n",
    "    videoInfo[v['aid']] = [v['bvid'], v['title']]\n",
    "for i in range(2, page + 1):\n",
    "    r = requests.get(all_video_url(14110780,ps,i), headers = all_video_header)\n",
    "    jsonText = json.loads(r.text)\n",
    "    vlist = jsonText['data']['list']['vlist']\n",
    "    print(\"-------------Doing page{}---------------\".format(i))\n",
    "    for v in vlist:\n",
    "        videoInfo[v['aid']] = [v['bvid'], v['title']]\n",
    "print('Done!')"
   ]
  },
  {
   "cell_type": "code",
   "execution_count": 143,
   "metadata": {},
   "outputs": [
    {
     "name": "stdout",
     "output_type": "stream",
     "text": [
      "44\n"
     ]
    },
    {
     "data": {
      "text/plain": [
       "{926524332: ['BV1YT4y1j7Ci', '【东方凭依华】大狸子vs城管  电脑N练习向'],\n",
       " 626526314: ['BV1Pt4y1D72o', '【素VLOG】廊坊鸿顺楼~美美的早操~'],\n",
       " 584106706: ['BV1164y1F7Sk', '【素VLOG】一个假的逗猫棒'],\n",
       " 413913146: ['BV1GV411r7tA', '【素VLOG】UNINE粉丝送机~迷妹深情呼唤李振宁~'],\n",
       " 626463447: ['BV1tt4y1X7Np', '【酒馆战棋】伟大的安德罗妮生前曾说过我能连赢周杰伦三把'],\n",
       " 926261733: ['BV19T4y177bh', '【炉石传说】第一包就涉黄。。。'],\n",
       " 841263455: ['BV1T54y1q7TE', '【酒馆战棋】建议改成：周杰伦代码发一下'],\n",
       " 841295142: ['BV1754y1q7Gc', '【炉石传说】史诗！一发入魂!'],\n",
       " 243831842: ['BV1Dv411i7oT', '【炉石传说】单抽出奇迹~单抽出传说~'],\n",
       " 456248438: ['BV1Y5411Y7YV', '【素VLOG】河畔的黄昏（10倍速延时摄影）'],\n",
       " 968670152: ['BV11p4y1U7Hu', '【人皮客栈】《HOSTEL》+炫迈口香糖神之奇混音版本'],\n",
       " 371182878: ['BV1NZ4y1p7Ty', '【多罗玛丽】X1命通关（前两关）'],\n",
       " 371244649: ['BV1TZ4y1u7dQ', '【来自深渊】ノンクレジットED各种混剪合辑'],\n",
       " 838717121: ['BV1ag4y1v7Q4', '【来自深渊】ノンクレジットOP 1-4四种片尾高清图混剪'],\n",
       " 668539369: ['BV1Wa4y1Y7Cv', '【多罗玛丽】一命通关（第一关）'],\n",
       " 286057482: ['BV1yf4y1y7Vy', '【多罗玛丽】X1命通关（第一关）'],\n",
       " 456071752: ['BV115411W7S3', '【素VLOG】下班后在小区门口偶遇一只小刺猬'],\n",
       " 328513320: ['BV1XA411v7EX', '【素VLOG】局气的招牌蜂窝煤炒饭'],\n",
       " 583559902: ['BV1ez4y1Q7HL', '【冰河世纪】听说~恋爱时莫吉托和橡果更配哦~'],\n",
       " 796078060: ['BV1dC4y1a7Ue', '【素VLOG】G2天津段普拉多自燃只剩一副车架'],\n",
       " 883521110: ['BV1oK4y1x7qc', '【素VLOG】北京地铁2号线东四十条站内环方向列车进出站实况记录'],\n",
       " 883564977: ['BV1nK4y147Z4', '【酒馆战棋】rua法姆连抬三人技术吃鸡'],\n",
       " 753428421: ['BV1mk4y1B79z', '鲍勃：你还记得一百八十天前海盗船上的帕奇斯嘛？'],\n",
       " 498414578: ['BV1jK411p74R', '【宣传介绍】海烟物流——集散天下精品，建设现代物流。'],\n",
       " 243386179: ['BV12v411z7pZ', '【越共集合】第16回东方Project人气投票简版图文教程'],\n",
       " 540935944: ['BV1Ki4y1x73N', '哇，传说？哇！哇！金色！金色！传说！传说！'],\n",
       " 925786870: ['BV1RT4y1u7Q2',\n",
       "  \"【宣传介绍】热能存储技Thermal Energy Storage Technology by TESSOL's PlugnChill Technology\"],\n",
       " 328240671: ['BV1MA411q79G', '音乐剧《猫》谢幕返场片段'],\n",
       " 540721581: ['BV1ai4y147Kh', 'BML2018现场~极乐净土~45°视角记录片段'],\n",
       " 883143024: ['BV1eK4y187ja', '一起来捉妖满资质元素之灵出生纪念'],\n",
       " 668142218: ['BV1ya4y1i7sV', '30秒横跨扬子江'],\n",
       " 58029311: ['BV1h4411c7ah', '【猫咪】萌（chou）猫绕柱~毫无走位ʕ •ɷ•ʔ'],\n",
       " 51767188: ['BV1R4411e7aV', '耳朵是否还记得05年的时候感受过的甜蜜~来自Sweety《爱的号码牌》'],\n",
       " 50370356: ['BV1i441187Zy', '[科普]首都机场南航A380降落18L跑道随拍 by鹿爺'],\n",
       " 1494886: ['BV1Gx411K7Cu', '面对命中精通点满的敌人我只剩下蛋蛋的忧伤了'],\n",
       " 1407797: ['BV12x411N7tq', '汪星人与神奇的悬浮火腿肠'],\n",
       " 1403363: ['BV11x411N7Aw', '澳洲2岁萝莉晒奢靡生活照 直升机代步！'],\n",
       " 1403337: ['BV11x411N7wp', '饲养员给120多头旺财喂食~霸气测漏！！！'],\n",
       " 1397732: ['BV1yx411N7v6', '土豆怪兽精彩时刻 第一期 如风的亚索笑纳三杀'],\n",
       " 1397694: ['BV1yx411N7iJ', '【老挝黑暗料理】~蚁卵鸭汤~'],\n",
       " 1397678: ['BV1yx411N7ii', '芬兰95岁老太150米高吊车上玩蹦（zuo）极（si）'],\n",
       " 1397670: ['BV1yx411N7iy', '英国上空惊现“上帝之手”罕见云端奇观'],\n",
       " 1395177: ['BV1kx411N7ir', '黄晓明戴假发成白发魔男 直言范爷腰粗'],\n",
       " 1377666: ['BV1mx411N7m8', '博弈论导论—五个入门结论']}"
      ]
     },
     "execution_count": 143,
     "metadata": {},
     "output_type": "execute_result"
    }
   ],
   "source": [
    "print(len(videoInfo))\n",
    "videoInfo"
   ]
  },
  {
   "cell_type": "code",
   "execution_count": 153,
   "metadata": {},
   "outputs": [
    {
     "name": "stdout",
     "output_type": "stream",
     "text": [
      "已评论《【东方凭依华】大狸子vs城管  电脑N练习向》\n",
      "已评论《【素VLOG】廊坊鸿顺楼~美美的早操~》\n",
      "已评论《【素VLOG】一个假的逗猫棒》\n",
      "已评论《【素VLOG】UNINE粉丝送机~迷妹深情呼唤李振宁~》\n",
      "已评论《【酒馆战棋】伟大的安德罗妮生前曾说过我能连赢周杰伦三把》\n",
      "已评论《【炉石传说】第一包就涉黄。。。》\n",
      "已评论《【酒馆战棋】建议改成：周杰伦代码发一下》\n",
      "已评论《【炉石传说】史诗！一发入魂!》\n",
      "已评论《【炉石传说】单抽出奇迹~单抽出传说~》\n",
      "已评论《【素VLOG】河畔的黄昏（10倍速延时摄影）》\n",
      "已评论《【人皮客栈】《HOSTEL》+炫迈口香糖神之奇混音版本》\n",
      "已评论《【多罗玛丽】X1命通关（前两关）》\n",
      "已评论《【来自深渊】ノンクレジットED各种混剪合辑》\n",
      "已评论《【来自深渊】ノンクレジットOP 1-4四种片尾高清图混剪》\n",
      "已评论《【多罗玛丽】一命通关（第一关）》\n",
      "已评论《【多罗玛丽】X1命通关（第一关）》\n",
      "已评论《【素VLOG】下班后在小区门口偶遇一只小刺猬》\n",
      "已评论《【素VLOG】局气的招牌蜂窝煤炒饭》\n",
      "已评论《【冰河世纪】听说~恋爱时莫吉托和橡果更配哦~》\n",
      "已评论《【素VLOG】G2天津段普拉多自燃只剩一副车架》\n",
      "已评论《【素VLOG】北京地铁2号线东四十条站内环方向列车进出站实况记录》\n",
      "已评论《【酒馆战棋】rua法姆连抬三人技术吃鸡》\n",
      "已评论《鲍勃：你还记得一百八十天前海盗船上的帕奇斯嘛？》\n",
      "已评论《【宣传介绍】海烟物流——集散天下精品，建设现代物流。》\n",
      "已评论《【越共集合】第16回东方Project人气投票简版图文教程》\n",
      "已评论《哇，传说？哇！哇！金色！金色！传说！传说！》\n",
      "已评论《【宣传介绍】热能存储技Thermal Energy Storage Technology by TESSOL's PlugnChill Technology》\n",
      "已评论《音乐剧《猫》谢幕返场片段》\n",
      "已评论《BML2018现场~极乐净土~45°视角记录片段》\n",
      "已评论《一起来捉妖满资质元素之灵出生纪念》\n",
      "已评论《30秒横跨扬子江》\n",
      "已评论《【猫咪】萌（chou）猫绕柱~毫无走位ʕ •ɷ•ʔ》\n",
      "已评论《耳朵是否还记得05年的时候感受过的甜蜜~来自Sweety《爱的号码牌》》\n",
      "已评论《[科普]首都机场南航A380降落18L跑道随拍 by鹿爺》\n",
      "已评论《面对命中精通点满的敌人我只剩下蛋蛋的忧伤了》\n",
      "已评论《汪星人与神奇的悬浮火腿肠》\n",
      "已评论《澳洲2岁萝莉晒奢靡生活照 直升机代步！》\n",
      "已评论《饲养员给120多头旺财喂食~霸气测漏！！！》\n",
      "已评论《土豆怪兽精彩时刻 第一期 如风的亚索笑纳三杀》\n",
      "已评论《【老挝黑暗料理】~蚁卵鸭汤~》\n",
      "已评论《芬兰95岁老太150米高吊车上玩蹦（zuo）极（si）》\n",
      "已评论《英国上空惊现“上帝之手”罕见云端奇观》\n",
      "已评论《黄晓明戴假发成白发魔男 直言范爷腰粗》\n",
      "已评论《博弈论导论—五个入门结论》\n"
     ]
    }
   ],
   "source": [
    "import time\n",
    "message = \"每个视频都有我！\"\n",
    "for i in videoInfo:\n",
    "    requests.post(comment_url, headers = comment_header, data = comment_data(i, message, csrf))\n",
    "    print(\"已评论《{}》\".format(videoInfo[i][1]))\n",
    "    time.sleep(10)"
   ]
  },
  {
   "cell_type": "code",
   "execution_count": null,
   "metadata": {},
   "outputs": [],
   "source": []
  }
 ],
 "metadata": {
  "kernelspec": {
   "display_name": "Python 3",
   "language": "python",
   "name": "python3"
  },
  "language_info": {
   "codemirror_mode": {
    "name": "ipython",
    "version": 3
   },
   "file_extension": ".py",
   "mimetype": "text/x-python",
   "name": "python",
   "nbconvert_exporter": "python",
   "pygments_lexer": "ipython3",
   "version": "3.7.6"
  }
 },
 "nbformat": 4,
 "nbformat_minor": 4
}
