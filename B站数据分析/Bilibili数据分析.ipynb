{
 "cells": [
  {
   "cell_type": "code",
   "execution_count": 357,
   "metadata": {},
   "outputs": [],
   "source": [
    "from openpyxl import load_workbook\n",
    "wb = load_workbook(\"bilibili.xlsx\")\n",
    "ws = wb['Sheet1']\n",
    "sizeOfFile = 500"
   ]
  },
  {
   "cell_type": "code",
   "execution_count": 392,
   "metadata": {},
   "outputs": [],
   "source": [
    "def get_row(ws, i):\n",
    "    return [\n",
    "        int(ws['J' + str(i)].value),\n",
    "        int(ws['D' + str(i)].value),\n",
    "        int(ws['F' + str(i)].value),\n",
    "    ]"
   ]
  },
  {
   "cell_type": "code",
   "execution_count": 393,
   "metadata": {},
   "outputs": [],
   "source": [
    "data = [get_row(ws, i) for i in range(2,sizeOfFile + 2)]"
   ]
  },
  {
   "cell_type": "markdown",
   "metadata": {},
   "source": [
    "# 数据预处理"
   ]
  },
  {
   "cell_type": "code",
   "execution_count": 394,
   "metadata": {},
   "outputs": [],
   "source": [
    "import numpy as np\n",
    "npData = np.array(data)\n",
    "npMean = np.mean(npData,axis = 0)\n",
    "npStd = np.std(npData,axis = 0)\n",
    "data = (npData - npMean) / npStd #归一化"
   ]
  },
  {
   "cell_type": "markdown",
   "metadata": {},
   "source": [
    "# K-means：生成随机中心"
   ]
  },
  {
   "cell_type": "code",
   "execution_count": 395,
   "metadata": {},
   "outputs": [],
   "source": [
    "def randomCenter(center,size):\n",
    "    return np.random.uniform(-2,2,(center,size))"
   ]
  },
  {
   "cell_type": "code",
   "execution_count": 396,
   "metadata": {},
   "outputs": [],
   "source": [
    "center = 3\n",
    "size = 3\n",
    "initialCenter = randomCenter(center, size)"
   ]
  },
  {
   "cell_type": "code",
   "execution_count": 397,
   "metadata": {},
   "outputs": [
    {
     "data": {
      "text/plain": [
       "0"
      ]
     },
     "execution_count": 397,
     "metadata": {},
     "output_type": "execute_result"
    }
   ],
   "source": [
    "np.argmin([sum((data[0] - initialCenter[i]) ** 2) for i in range(center)])"
   ]
  },
  {
   "cell_type": "code",
   "execution_count": 398,
   "metadata": {},
   "outputs": [],
   "source": [
    "def update(data, center, initialCenter):\n",
    "    newList = [[] for _ in range(center)]\n",
    "    for j in range(sizeOfFile):\n",
    "        newList[np.argmin([sum((data[j] - initialCenter[i]) ** 2) for i in range(center)])].append(j)\n",
    "    return newList"
   ]
  },
  {
   "cell_type": "code",
   "execution_count": 399,
   "metadata": {},
   "outputs": [],
   "source": [
    "def kMean(initialCenter, data, center):\n",
    "    old = []\n",
    "    newCenter = initialCenter\n",
    "    for z in range(1000):\n",
    "        updated = update(data, center, newCenter)\n",
    "        if updated == old:\n",
    "            print(z)\n",
    "            break\n",
    "        Center = []\n",
    "        for i in range(center):\n",
    "            if updated[i] == []: \n",
    "                Center.append(newCenter[i])\n",
    "                \n",
    "            else: \n",
    "                Center.append(data[updated[i]].mean(axis=0))\n",
    "        old = updated\n",
    "        newCenter = Center\n",
    "        \n",
    "    return updated"
   ]
  },
  {
   "cell_type": "code",
   "execution_count": 400,
   "metadata": {},
   "outputs": [
    {
     "name": "stdout",
     "output_type": "stream",
     "text": [
      "12\n"
     ]
    }
   ],
   "source": [
    "newList = kMean(initialCenter, data, center)"
   ]
  },
  {
   "cell_type": "code",
   "execution_count": 434,
   "metadata": {},
   "outputs": [],
   "source": [
    "def getStdMean(center,ws):\n",
    "    mean = []\n",
    "    std = []\n",
    "    for k in range(center):\n",
    "        temp = [[int(j.value) for j in ws[i+2][1:]] for i in newList[k]]\n",
    "        #print(temp)\n",
    "        mean.append(np.mean(temp,axis = 0))\n",
    "        std.append(np.std(temp, axis = 0))\n",
    "    return [mean,std]"
   ]
  },
  {
   "cell_type": "code",
   "execution_count": 435,
   "metadata": {},
   "outputs": [
    {
     "name": "stdout",
     "output_type": "stream",
     "text": [
      "[1.67029885e+06 2.52467672e+02 1.38490503e+08 1.28302155e+03\n",
      " 3.47855603e+02 1.32155302e+04 7.08005166e+05 1.07894440e+04\n",
      " 6.91250000e+01 5.99353448e+00]\n"
     ]
    }
   ],
   "source": [
    "mean, std = getStdMean(center, ws)\n",
    "print(mean[0])"
   ]
  },
  {
   "cell_type": "code",
   "execution_count": 436,
   "metadata": {},
   "outputs": [],
   "source": [
    "import xlsxwriter\n",
    "\n",
    "workbook = xlsxwriter.Workbook('k_Mean_bilibili.xlsx') # 建立文件\n",
    "\n",
    "worksheet = workbook.add_worksheet() # 建立sheet， 可以work.add_worksheet('employee')来指定sheet名，但中文名会报UnicodeDecodeErro的错误\n",
    "count = 1\n",
    "for k in range(center):\n",
    "    dummy = [i.value for i in ws[1]]\n",
    "    worksheet.write_row(\"A\" + str(count), dummy)\n",
    "    count += 1\n",
    "    for i in newList[k]:\n",
    "        dummy = [j.value for j in ws[i+2]]\n",
    "        worksheet.write_row(\"A\" + str(count), dummy)\n",
    "        count += 1\n",
    "    mean, std = getStdMean(center, ws)\n",
    "    dummy = []\n",
    "    dummy.append(\"关注mean: \" + str(mean[k][8]))\n",
    "    dummy.append(\"关注std: \" + str(std[k][8]))\n",
    "    dummy.append(\"总播放量mean: \" + str(mean[k][2]))\n",
    "    dummy.append(\"总播放量std: \" + str(std[k][2]))\n",
    "    dummy.append(\"视频数mean: \" + str(mean[k][4]))\n",
    "    dummy.append(\"视频数std: \" + str(std[k][4]))\n",
    "    worksheet.write_row(\"A\" + str(count), dummy)\n",
    "    count += 3\n",
    " \n",
    "# 将数据写入单元格序列\n",
    "workbook.close()"
   ]
  },
  {
   "cell_type": "markdown",
   "metadata": {},
   "source": [
    "# 输出分类"
   ]
  },
  {
   "cell_type": "code",
   "execution_count": 259,
   "metadata": {},
   "outputs": [],
   "source": [
    "nameList = [ws['A' + str(i+2)].value for i in newList[3] ]"
   ]
  },
  {
   "cell_type": "code",
   "execution_count": 260,
   "metadata": {},
   "outputs": [],
   "source": [
    "nameList = []\n",
    "for j in range(center):\n",
    "    nameList.append([ws['A' + str(i+2)].value for i in newList[j] ])"
   ]
  },
  {
   "cell_type": "code",
   "execution_count": 277,
   "metadata": {},
   "outputs": [
    {
     "name": "stdout",
     "output_type": "stream",
     "text": [
      "['敖厂长', '共青团中央', '翔翔大作战', '华农兄弟', '暴走漫画', '中国BOY超级大猩猩', '指法芬芳张大仙', '哔哩哔哩电影', '朱一旦的枯燥生活', '徐大sao', '哔哩哔哩英雄联盟赛事', '靠脸吃饭的徐大王', '起小点是大腿']\n",
      "\n",
      "\n",
      "['papi酱', '凉风Kaze', '周六野Zoey', '机智的党妹', '罗翔说刑法', '李子柒', '伊丽莎白鼠', '某幻君', '渗透之C君', '我是郭杰瑞', '信誓蛋蛋', '徐大虾咯']\n",
      "\n",
      "\n",
      "['哔哩哔哩漫画', '老番茄', '敬汉卿', '哔哩哔哩大会员', 'LexBurner']\n",
      "\n",
      "\n",
      "['老师好我叫何同学', '木鱼水心', '美食作家王刚R', '纳豆奶奶', '逍遥散人', '张召忠', '绵羊料理', '爱做饭的芋头SAMA', '记录生活的蛋黄派', '大祥哥来了', '日食记', '手工耿', '央视新闻', '硬核的半佛仙人', '歪果仁研究协会', '花少北丶', '努力的Lorre']\n",
      "\n",
      "\n",
      "['哔哩哔哩纪录片', '观察者网', '柚子木字幕组']\n",
      "\n",
      "\n"
     ]
    }
   ],
   "source": [
    "for i in nameList:\n",
    "    print((i))\n",
    "    print(\"\\n\")"
   ]
  },
  {
   "cell_type": "markdown",
   "metadata": {},
   "source": [
    "# （播放量/视频数） -  粉丝数 -> 计算粉丝数和实际活跃用户差值"
   ]
  },
  {
   "cell_type": "code",
   "execution_count": 348,
   "metadata": {},
   "outputs": [],
   "source": [
    "diffData = [get_row(ws, i) for i in range(2,sizeOfFile + 2)]"
   ]
  },
  {
   "cell_type": "code",
   "execution_count": 349,
   "metadata": {},
   "outputs": [],
   "source": [
    "sortUp = []\n",
    "\n",
    "for index, values in enumerate(diffData):\n",
    "    temp = []\n",
    "    temp.append(values[1]/values[2]-values[0])\n",
    "    temp.append(index)\n",
    "    sortUp.append(temp)\n",
    "    \n",
    "sortUp.sort(reverse = 1)"
   ]
  },
  {
   "cell_type": "code",
   "execution_count": 350,
   "metadata": {},
   "outputs": [],
   "source": [
    "import xlsxwriter\n",
    "\n",
    "workbook = xlsxwriter.Workbook('Diff_bilibili.xlsx') # 建立文件\n",
    "\n",
    "worksheet = workbook.add_worksheet() # 建立sheet， 可以work.add_worksheet('employee')来指定sheet名，但中文名会报UnicodeDecodeErro的错误\n",
    "count = 1\n",
    "dummy = [i.value for i in ws[1]]\n",
    "dummy.append(\"（播放量/视频数） - 粉丝数\")\n",
    "worksheet.write_row(\"A\" + str(count), dummy)\n",
    "count += 1\n",
    "for i,index in sortUp:\n",
    "    dummy = [i.value for i in ws[index + 2]]\n",
    "    dummy.append(i)\n",
    "    worksheet.write_row(\"A\" + str(count), dummy)\n",
    "    count += 1 \n",
    "# 将数据写入单元格序列\n",
    "workbook.close()"
   ]
  },
  {
   "cell_type": "markdown",
   "metadata": {},
   "source": [
    "# 粉丝数*视频数/播放量"
   ]
  },
  {
   "cell_type": "code",
   "execution_count": 354,
   "metadata": {},
   "outputs": [],
   "source": [
    "diffData = [get_row(ws, i) for i in range(2,sizeOfFile + 2)]"
   ]
  },
  {
   "cell_type": "code",
   "execution_count": 355,
   "metadata": {},
   "outputs": [],
   "source": [
    "newSortUp = []\n",
    "\n",
    "for index, values in enumerate(diffData):\n",
    "    temp = []\n",
    "    temp.append(values[1]/(values[0]*values[2]))\n",
    "    temp.append(index)\n",
    "    newSortUp.append(temp)\n",
    "    \n",
    "newSortUp.sort(reverse = 1)"
   ]
  },
  {
   "cell_type": "code",
   "execution_count": 356,
   "metadata": {},
   "outputs": [],
   "source": [
    "import xlsxwriter\n",
    "\n",
    "workbook = xlsxwriter.Workbook('平均视频观看量 _bilibili.xlsx') # 建立文件\n",
    "\n",
    "worksheet = workbook.add_worksheet() # 建立sheet， 可以work.add_worksheet('employee')来指定sheet名，但中文名会报UnicodeDecodeErro的错误\n",
    "count = 1\n",
    "dummy = [i.value for i in ws[1]]\n",
    "dummy.append(\"播放量/（粉丝数*视频数）\")\n",
    "worksheet.write_row(\"A\" + str(count), dummy)\n",
    "count += 1\n",
    "for i,index in newSortUp:\n",
    "    dummy = [i.value for i in ws[index + 2]]\n",
    "    dummy.append(i)\n",
    "    worksheet.write_row(\"A\" + str(count), dummy)\n",
    "    count += 1 \n",
    "# 将数据写入单元格序列\n",
    "workbook.close()"
   ]
  },
  {
   "cell_type": "code",
   "execution_count": null,
   "metadata": {},
   "outputs": [],
   "source": []
  }
 ],
 "metadata": {
  "kernelspec": {
   "display_name": "Python 3",
   "language": "python",
   "name": "python3"
  },
  "language_info": {
   "codemirror_mode": {
    "name": "ipython",
    "version": 3
   },
   "file_extension": ".py",
   "mimetype": "text/x-python",
   "name": "python",
   "nbconvert_exporter": "python",
   "pygments_lexer": "ipython3",
   "version": "3.7.6"
  }
 },
 "nbformat": 4,
 "nbformat_minor": 4
}
